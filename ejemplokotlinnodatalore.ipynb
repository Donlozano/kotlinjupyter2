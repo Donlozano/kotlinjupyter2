{
 "cells": [
  {
   "cell_type": "code",
   "execution_count": 2,
   "id": "adfc868e",
   "metadata": {},
   "outputs": [
    {
     "name": "stdout",
     "output_type": "stream",
     "text": [
      "hola\r\n"
     ]
    }
   ],
   "source": [
    "println(\"hola\")"
   ]
  },
  {
   "cell_type": "markdown",
   "id": "c62d39ba",
   "metadata": {},
   "source": [
    "esto es markdowon"
   ]
  },
  {
   "cell_type": "code",
   "execution_count": 1,
   "id": "9e9d09ce",
   "metadata": {},
   "outputs": [
    {
     "name": "stdout",
     "output_type": "stream",
     "text": [
      "1"
     ]
    }
   ],
   "source": [
    "var a=1\n",
    "print(a)"
   ]
  },
  {
   "cell_type": "code",
   "execution_count": null,
   "id": "1904b8d3",
   "metadata": {},
   "outputs": [],
   "source": []
  }
 ],
 "metadata": {
  "kernelspec": {
   "display_name": "Kotlin",
   "language": "kotlin",
   "name": "kotlin"
  },
  "language_info": {
   "codemirror_mode": "text/x-kotlin",
   "file_extension": ".kt",
   "mimetype": "text/x-kotlin",
   "name": "kotlin",
   "nbconvert_exporter": "",
   "pygments_lexer": "kotlin",
   "version": "1.8.0-dev-3517"
  }
 },
 "nbformat": 4,
 "nbformat_minor": 5
}
