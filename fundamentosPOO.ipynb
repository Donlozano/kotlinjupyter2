{
 "cells":[
  {
   "cell_type":"markdown",
   "source":[
    "# CREACIÓN DE UNA CLASE\n",
    "En general la fexibilidad de Kotlin redunda en multitud de posibilidades sintácticas para escribir lo mismo. Aquí recogemos simplemente las posibilidades más fundamentales. Incluso alguna podríamos haberlas obviado.\n",
    "\n",
    "Una clase es una plantilla o modelo que se utilizará para crear  objetos. Una clase de Kotlin se define usando la palabra clave *class*. El cuerpo de una clase puede contener  propiedades(atributos) y\/o métodos.\n",
    "Una propiedad es básicamente una variable que pertenece a la clase y un método una función que pertenece a la clase\n",
    "\n",
    "La declaración básica de un clase consta del nombre de la clase y el cuerpo de la clase rodeado de llaves. \n",
    "```\n",
    "class Persona{\n",
    "  var nombre = \"\"\n",
    "  var edad = 0\n",
    "  fun printMe() {\n",
    "      print(nombre+ \" \" + edad)\n",
    "   }\n",
    "} \n",
    "```\n",
    "Tanto el encabezado como el cuerpo son opcionales; si la clase no tiene cuerpo, se pueden omitir las llaves.\n",
    "```\n",
    "class miClaseVacia\n",
    "```\n",
    "# CREACIÓN DE OBJETOS \n",
    "Los objetos se crean a partir de la clase Kotlin. Todos los objetos de una clase  comparten las propiedades y comportamientos comunes definidos en la clase.\n",
    "\n",
    "La sintaxis más básica para crear un objeto de una clase es:\n",
    "\n",
    "```\n",
    "var varName = ClassName()\n",
    "```\n",
    "\n",
    "Podemos acceder a las propiedades y métodos de una clase usando el operdor . \n",
    "\n",
    "var varName = ClassName()\n",
    "\n",
    "varName.property = <Value>\n",
    "varName.functionName()\n",
    "\n",
    "En el siguiente  ejemplo creamos un objeto de la  clase Persona y utilizamos sus miembros con el operador .(punto)\n",
    "```\n",
    "```\n",
    "\n",
    "\n",
    "\n",
    "El fragmento de código anterior producirá el siguiente resultado en el navegador, donde estamos llamando al método printMe() de myClass con la ayuda de su propio objeto obj ."
   ],
   "attachments":{
    
   },
   "metadata":{
    "datalore":{
     "node_id":"YDnef6ii0ZgBchKqOu66oW",
     "type":"MD",
     "hide_input_from_viewers":false,
     "hide_output_from_viewers":false
    }
   }
  },
  {
   "cell_type":"code",
   "source":[
    "class Persona{\n",
    "  var nombre = \"\"\n",
    "  var edad = 0\n",
    "  fun printMe() {\n",
    "      print(nombre+ \" \" + edad)\n",
    "   }\n",
    "} \n",
    "val p = Persona() \n",
    "p.nombre=\"yo\"\n",
    "p.edad=15\n",
    "p.printMe() "
   ],
   "execution_count":4,
   "outputs":[
    {
     "name":"stdout",
     "text":[
      "yo 15"
     ],
     "output_type":"stream"
    }
   ],
   "metadata":{
    "datalore":{
     "node_id":"qwaOCLQ0iQJauTKohQahF1",
     "type":"CODE",
     "hide_input_from_viewers":false,
     "hide_output_from_viewers":false
    }
   }
  },
  {
   "cell_type":"markdown",
   "source":[
    "# Constructores Kotlin\n",
    "\n",
    "Un constructor es una función miembro especial que se invoca cuando se crea un objeto de la clase principalmente para inicializar variables o propiedades. Una clase debe tener un constructor y, si no declaramos un constructor, el compilador genera un constructor predeterminado.\n",
    "\n",
    "Kotlin tiene dos tipos de constructores: \n",
    "\n",
    "- Constructor principal o primario\n",
    "- Constructor secundario \n",
    " \n",
    "Una clase en Kotlin puede tener como máximo un constructor principal y uno o más constructores secundarios. El constructor principal hace simplemente asignaciones de valores a laspropiedades. El constructor secundario se usa cuando se requieres hacer las inicializaciones con  algo de lógica adicional.\n",
    "\n",
    "\n",
    " "
   ],
   "attachments":{
    
   },
   "metadata":{
    "datalore":{
     "node_id":"AukJgQPAhqr7uIvQFTJP9F",
     "type":"MD",
     "hide_input_from_viewers":false,
     "hide_output_from_viewers":false
    }
   }
  },
  {
   "cell_type":"markdown",
   "source":[
    "## El constructor predeterminado\n",
    "El ejemplo de más  arriba de la clase Persona no define ningún constructor y por tanto  se puede utilizar el constructor predeterminado para crear un objeto de esa clase. El constructor predeterminado se invoca con el nombre de la clase seguido de "
   ],
   "attachments":{
    
   },
   "metadata":{
    "datalore":{
     "node_id":"uMYXpgwM3G4OkuNjrwSOlc",
     "type":"MD",
     "hide_input_from_viewers":false,
     "hide_output_from_viewers":false
    }
   }
  },
  {
   "cell_type":"markdown",
   "source":[
    "## El constructor principal\n",
    "Hay unas cuantas variantes sintácticas.\n",
    "El constructor principal se escribe simplemente indicando despues del nombre de la clase la palabra clave *constructor* y a continuación entre paréntesis la definición de las propiedades de la clase. Si queremos que los parámetros definan al mismo tiempo propiedades es necesario hacerlo con var\/val "
   ],
   "attachments":{
    
   },
   "metadata":{
    "datalore":{
     "node_id":"qy4ynP0HkqPfAuQv8i5JQS",
     "type":"MD",
     "hide_input_from_viewers":false,
     "hide_output_from_viewers":false
    }
   }
  },
  {
   "cell_type":"code",
   "source":[
    "class Persona constructor(var nombre:String, var edad:Int){\n",
    "   fun printMe() {\n",
    "      println(nombre+ \" \" + edad)\n",
    "   }\n",
    "} \n",
    "val p1 = Persona(\"yo\",15) \n",
    "p1.printMe() \n",
    "val p2 = Persona(\"tu\",35) \n",
    "p2.printMe() "
   ],
   "execution_count":2,
   "outputs":[
    {
     "name":"stdout",
     "text":[
      "yo 15\n",
      "tu 35\n"
     ],
     "output_type":"stream"
    }
   ],
   "metadata":{
    "datalore":{
     "node_id":"PPjacUEypzqtS3TFhDsCDp",
     "type":"CODE",
     "hide_input_from_viewers":false,
     "hide_output_from_viewers":false
    }
   }
  },
  {
   "cell_type":"markdown",
   "source":[
    "La palabra clave  *constructor* se puede omitir si no hay anotaciones o modificadores de acceso especificados como público, privado o protegido."
   ],
   "attachments":{
    
   },
   "metadata":{
    "datalore":{
     "node_id":"7D71i7qCQ9sPG8SlkQGRWL",
     "type":"MD",
     "hide_input_from_viewers":false,
     "hide_output_from_viewers":false
    }
   }
  },
  {
   "cell_type":"code",
   "source":[
    "class Persona (var nombre:String, var edad:Int){\n",
    "   fun printMe() {\n",
    "      println(nombre+ \" \" + edad)\n",
    "   }\n",
    "} \n",
    "val p1 = Persona(\"yo\",15) \n",
    "p1.printMe() \n",
    "val p2 = Persona(\"tu\",35) \n",
    "p2.printMe() "
   ],
   "execution_count":3,
   "outputs":[
    {
     "name":"stdout",
     "text":[
      "yo 15\n",
      "tu 35\n"
     ],
     "output_type":"stream"
    }
   ],
   "metadata":{
    "datalore":{
     "node_id":"fVdBz0fxsMdjUJR1GuL5or",
     "type":"CODE",
     "hide_input_from_viewers":false,
     "hide_output_from_viewers":false
    }
   }
  },
  {
   "cell_type":"markdown",
   "source":[
    "Se pueden inicializar los parámetros del constructor con algunos valores predeterminados. "
   ],
   "attachments":{
    
   },
   "metadata":{
    "datalore":{
     "node_id":"Kodoj2ouUFK0w6IOqTRsP1",
     "type":"MD",
     "hide_input_from_viewers":false,
     "hide_output_from_viewers":false
    }
   }
  },
  {
   "cell_type":"code",
   "source":[
    "class Persona (var nombre:String, var edad:Int=90){\n",
    "   fun printMe() {\n",
    "      println(nombre+ \" \" + edad)\n",
    "   }\n",
    "} \n",
    "val p1 = Persona(\"yo\") \n",
    "p1.printMe() \n",
    "val p2 = Persona(\"tu\",35) \n",
    "p2.printMe() "
   ],
   "execution_count":17,
   "outputs":[
    {
     "name":"stdout",
     "text":[
      "yo 90\n",
      "tu 35\n"
     ],
     "output_type":"stream"
    }
   ],
   "metadata":{
    "datalore":{
     "node_id":"w15jHYITgOvsZgmtFtOaCn",
     "type":"CODE",
     "hide_input_from_viewers":false,
     "hide_output_from_viewers":false
    }
   }
  },
  {
   "cell_type":"markdown",
   "source":[
    "Sí no indicamos en los paréntesis del constructor los parámetros con val\/var entonces es que queremos definir dentro de la clase las propiedades y entre los paréntesis simplemente se indican variables que no tienen el rango de propiedades de la clase.\n"
   ],
   "attachments":{
    
   },
   "metadata":{
    "datalore":{
     "node_id":"HTTvzbXcQ9m9GKd85MtE2s",
     "type":"MD",
     "hide_input_from_viewers":false,
     "hide_output_from_viewers":false
    }
   }
  },
  {
   "cell_type":"code",
   "source":[
    "class Persona (elnombre:String, laedad:Int){\n",
    "   var nombre=elnombre\n",
    "   var edad=laedad \n",
    "   fun printMe() {\n",
    "      println(nombre+ \" \" + edad)\n",
    "   }\n",
    "} \n",
    "val p1 = Persona(\"yo\",15) \n",
    "p1.printMe() \n",
    "val p2 = Persona(\"tu\",35) \n",
    "p2.printMe() "
   ],
   "execution_count":5,
   "outputs":[
    {
     "name":"stdout",
     "text":[
      "yo 15\n",
      "tu 35\n"
     ],
     "output_type":"stream"
    }
   ],
   "metadata":{
    "datalore":{
     "node_id":"1glwjLXMRmlBnK3ICYVPoU",
     "type":"CODE",
     "hide_input_from_viewers":false,
     "hide_output_from_viewers":false
    }
   }
  },
  {
   "cell_type":"markdown",
   "source":[
    "## Bloques init\n",
    "El constructor principal simplemente tiene capacidad para hacer asignaciones de valores a variables. Podemos añadir lógica a la inicialización con un bloque *init*. Puede haber más de un bloque de inicialización  durante la inicialización de una instancia, los bloques de inicialización se ejecutan en el mismo orden en que aparecen en el cuerpo de la clase."
   ],
   "attachments":{
    
   },
   "metadata":{
    "datalore":{
     "node_id":"XPXotecA7UBvVdmOl2xnh2",
     "type":"MD",
     "hide_input_from_viewers":false,
     "hide_output_from_viewers":false
    }
   }
  },
  {
   "cell_type":"code",
   "source":[
    "class Persona (var nombre:String, var edad:Int){\n",
    "   init{\n",
    "       if(edad<0) edad=0\n",
    "   } \n",
    "   init{\n",
    "       println(\"Segundo init\")\n",
    "   }   \n",
    "   fun printMe() {\n",
    "      println(nombre+ \" \" + edad)\n",
    "   }\n",
    "} \n",
    "val p1 = Persona(\"yo\",-15) \n",
    "p1.printMe() \n",
    "val p2 = Persona(\"tu\",35) \n",
    "p2.printMe() "
   ],
   "execution_count":6,
   "outputs":[
    {
     "name":"stdout",
     "text":[
      "Segundo init\n",
      "yo 0\n",
      "Segundo init\n",
      "tu 35\n"
     ],
     "output_type":"stream"
    }
   ],
   "metadata":{
    "datalore":{
     "node_id":"E03OOyYYixeJvN5lVC1S4t",
     "type":"CODE",
     "hide_input_from_viewers":false,
     "hide_output_from_viewers":false
    }
   }
  },
  {
   "cell_type":"markdown",
   "source":[
    "En el siguiente ejemplo decidimos definir las propiedades dentro de la clase, no  através de los parámetros. Observa que los parámetros del constructor no llevan var\/val. Además, también a proposito, decidimos que coincidan los nombres de los parámetros y las propiedades. En este caso, el nombre del parámetro oculta al de la propiedad por lo que para referirnos a la propiedad debemos de utilizar la palabra reserva *this*."
   ],
   "attachments":{
    
   },
   "metadata":{
    "datalore":{
     "node_id":"BLf46O26I8bXo8H5WA3x7Y",
     "type":"MD",
     "hide_input_from_viewers":false,
     "hide_output_from_viewers":false
    }
   }
  },
  {
   "cell_type":"code",
   "source":[
    "class Persona (nombre:String,edad:Int){\n",
    "   var nombre:String\n",
    "   var edad:Int \n",
    "   init{\n",
    "       this.nombre=nombre\n",
    "       this.edad=edad\n",
    "       if(this.edad<0) this.edad=0\n",
    "   } \n",
    "    \n",
    "   fun printMe() {\n",
    "      println(nombre+ \" \" + edad)\n",
    "   }\n",
    "} \n",
    "val p1 = Persona(\"yo\",-15) \n",
    "p1.printMe() \n",
    "val p2 = Persona(\"tu\",35) \n",
    "p2.printMe() "
   ],
   "execution_count":16,
   "outputs":[
    {
     "name":"stdout",
     "text":[
      "yo 0\n",
      "tu 35\n"
     ],
     "output_type":"stream"
    }
   ],
   "metadata":{
    "datalore":{
     "node_id":"JRfAc6y43iDTP5JaRqUrxV",
     "type":"CODE",
     "hide_input_from_viewers":false,
     "hide_output_from_viewers":false
    }
   }
  },
  {
   "cell_type":"markdown",
   "source":[
    "## Constructores secundarios\n",
    "\n",
    "\n",
    "\n",
    "\n",
    "\n",
    " mirar aquí https:\/\/www.w3schools.com\/KOTLIN\/kotlin_constructors.php\n",
    "\n",
    " https:\/\/www.tutorialspoint.com\/kotlin\/kotlin_constructors.htm\n",
    "\n",
    " https:\/\/kotlinlang.org\/docs\/classes.html#constructors\n",
    "\n",
    " https:\/\/www.geeksforgeeks.org\/kotlin-constructor\/\n",
    "\n",
    " https:\/\/www.develou.com\/constructores-en-kotlin\/"
   ],
   "attachments":{
    
   },
   "metadata":{
    "datalore":{
     "node_id":"zThbeUR9ag050Y8zMCIxqt",
     "type":"MD",
     "hide_input_from_viewers":false,
     "hide_output_from_viewers":false
    }
   }
  },
  {
   "cell_type":"markdown",
   "source":[
    
   ],
   "attachments":{
    
   },
   "metadata":{
    "datalore":{
     "node_id":"MshbiS5AGkUx2vWiplw7p9",
     "type":"MD",
     "hide_input_from_viewers":false,
     "hide_output_from_viewers":false
    }
   }
  }
 ],
 "metadata":{
  "kernelspec":{
   "display_name":"Kotlin",
   "language":"kotlin",
   "name":"kotlin"
  },
  "datalore":{
   "version":1,
   "computation_mode":"JUPYTER",
   "package_manager":"pip",
   "base_environment":"default",
   "packages":[
    
   ]
  }
 },
 "nbformat":4,
 "nbformat_minor":4
}